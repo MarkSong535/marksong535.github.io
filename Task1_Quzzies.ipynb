{
 "cells": [
  {
   "cell_type": "markdown",
   "metadata": {},
   "source": [
    "# Quizzes for Quantum Computing @ TSpark 2022 Quantum+ Camp"
   ]
  },
  {
   "cell_type": "markdown",
   "metadata": {},
   "source": [
    "## Install Prerequisites"
   ]
  },
  {
   "cell_type": "code",
   "execution_count": null,
   "metadata": {},
   "outputs": [],
   "source": [
    "!pip install tensorcircuit\n",
    "!pip install qiskit\n",
    "!pip install optax\n",
    "!pip install pylatexenc"
   ]
  },
  {
   "cell_type": "markdown",
   "metadata": {
    "id": "kfT-e4k3QTtk"
   },
   "source": [
    "## Import Libraries"
   ]
  },
  {
   "cell_type": "code",
   "execution_count": null,
   "metadata": {
    "id": "FDxuLVSZQTbX"
   },
   "outputs": [],
   "source": [
    "from matplotlib import pyplot as plt\n",
    "import numpy as np\n",
    "import tensorcircuit as tc\n",
    "import sys\n",
    "import math\n",
    "import scipy as sp\n",
    "import qiskit"
   ]
  },
  {
   "cell_type": "markdown",
   "metadata": {
    "id": "DBbpTATbJRZp"
   },
   "source": [
    "### Test Script 1.1\n",
    "Make sure this script can be executed"
   ]
  },
  {
   "cell_type": "code",
   "execution_count": null,
   "metadata": {
    "id": "mBji4onvDaap"
   },
   "outputs": [],
   "source": [
    "K = tc.set_backend(\"tensorflow\")\n",
    "\n",
    "\n",
    "@K.jit\n",
    "def exp_z(param):\n",
    "    c = tc.Circuit(1)\n",
    "    c.rx(0, theta=param)\n",
    "    return K.real(c.expectation_ps(z=[0]))\n",
    "\n",
    "\n",
    "grad_z = K.grad(exp_z)\n",
    "\n",
    "params = K.convert_to_tensor(np.arange(0, 2 * np.pi, 0.01))\n",
    "\n",
    "plt.plot(params, [exp_z(param) for param in params], label=r\"$\\langle Z\\rangle$\")\n",
    "plt.plot(\n",
    "    params,\n",
    "    [grad_z(param) for param in params],\n",
    "    label=r\"$\\frac{\\partial \\langle Z\\rangle}{\\partial \\theta}$\",\n",
    ")\n",
    "plt.legend()\n",
    "plt.xlabel(r\"$\\theta$\")\n",
    "plt.show()"
   ]
  },
  {
   "cell_type": "markdown",
   "metadata": {
    "id": "ddNSctKIJUnG"
   },
   "source": [
    "## TensorCircuit Test Script"
   ]
  },
  {
   "cell_type": "code",
   "execution_count": null,
   "metadata": {
    "id": "BVHJEQnJJiRk"
   },
   "outputs": [],
   "source": [
    "\"\"\"\n",
    "Backend agnostic linear regression with gradient descent optimization:\n",
    "a demonstration on most of core features and paradigm of tensorcircuit\n",
    "\"\"\"\n",
    "\n",
    "# this script shows how backend agnostic magic works, no code change is required to switch backend\n",
    "# we also include jit, vmap and AD features in this pure classical example\n",
    "# this demonstrates that tensorcircuit can serve as a solid unified ML library without any \"quantumness\"\n",
    "\n",
    "sys.path.insert(0, \"../\")\n",
    "\n",
    "# (x, y) data preparation\n",
    "\n",
    "nsamples = 100\n",
    "k0 = 1.0\n",
    "b0 = 0.0\n",
    "\n",
    "xs0 = np.random.uniform(low=-1, high=1, size=[nsamples])\n",
    "ys0 = k0 * xs0 + b0 + np.random.normal(scale=0.1, size=[nsamples])\n",
    "\n",
    "\n",
    "def lr(xs, ys):\n",
    "    \"\"\"\n",
    "    fully ML backend agnostic linear regression implementation\n",
    "    \"\"\"\n",
    "    # construct the loss\n",
    "    def loss_pointwise(x, y, param):\n",
    "        k, b = param[\"k\"], param[\"b\"]\n",
    "        yp = k * x + b\n",
    "        return (yp - y) ** 2\n",
    "\n",
    "    # we suppose this loss function only works for scalar, so that we can show the usage of ``vmap``\n",
    "\n",
    "    loss_vmap = tc.backend.vmap(loss_pointwise, vectorized_argnums=(0, 1))\n",
    "\n",
    "    # now we define the total loss for all data\n",
    "\n",
    "    def loss(xs, ys, param):\n",
    "        losses = loss_vmap(xs, ys, param)\n",
    "        return tc.backend.sum(losses)\n",
    "\n",
    "    # we get the jitted function to evaluate loss and its derivatives wrt. param\n",
    "\n",
    "    loss_and_grad = tc.backend.jit(tc.backend.value_and_grad(loss, argnums=2))\n",
    "\n",
    "    # setup initial values and optimizers\n",
    "\n",
    "    weight = {\"k\": tc.backend.implicit_randn(), \"b\": tc.backend.implicit_randn()}\n",
    "\n",
    "    if tc.backend.name == \"tensorflow\":\n",
    "        import tensorflow as tf\n",
    "\n",
    "        opt = tc.backend.optimizer(tf.keras.optimizers.Adam(1e-2))\n",
    "    elif tc.backend.name == \"jax\":\n",
    "        import optax\n",
    "\n",
    "        opt = tc.backend.optimizer(optax.adam(1e-2))\n",
    "    else:\n",
    "        raise ValueError(\"Unsupported backend\")\n",
    "\n",
    "    # gradient descent optimization loop\n",
    "    maxstep = 500\n",
    "    for i in range(maxstep):\n",
    "        loss, grad = loss_and_grad(xs, ys, weight)\n",
    "        weight = opt.update(grad, weight)\n",
    "        if i % 100 == 0 or i == maxstep - 1:\n",
    "            print(\"optimized MSE loss after %s round: \" % i, tc.backend.numpy(loss))\n",
    "\n",
    "    return tc.backend.numpy(weight[\"k\"]), tc.backend.numpy(weight[\"b\"])\n",
    "\n",
    "\n",
    "if __name__ == \"__main__\":\n",
    "\n",
    "    for n in [\"tensorflow\", \"jax\"]:\n",
    "        with tc.runtime_backend(n):  # runtime backend switch with context manager\n",
    "            print(\"~~~~~~~~ using %s backend ~~~~~~~~\" % n)\n",
    "            xs_tensor, ys_tensor = tc.array_to_tensor(xs0, ys0, dtype=\"float32\")\n",
    "            print(\"predicted coefficient\", lr(xs_tensor, ys_tensor))"
   ]
  },
  {
   "cell_type": "markdown",
   "metadata": {},
   "source": [
    "## 1.2 向量和矩阵"
   ]
  },
  {
   "cell_type": "markdown",
   "metadata": {
    "id": "xWbMXHP_KavY"
   },
   "source": [
    "### Script 1.2.1 矩阵旋转\n",
    "向量旋转，将vec旋转theta度（theta为radian）"
   ]
  },
  {
   "cell_type": "code",
   "execution_count": null,
   "metadata": {
    "id": "PgRwj2MQKePF"
   },
   "outputs": [],
   "source": [
    "theta = float(input())\n",
    "vec = np.array([1,0])\n",
    "\n",
    "array_r_theta = np.array([[math.cos(theta),math.sin(theta)],[-1*math.sin(theta),math.cos(theta)]])\n",
    "\n",
    "result = array_r_theta @ vec"
   ]
  },
  {
   "cell_type": "markdown",
   "metadata": {
    "id": "aVdjKb4SNSpN"
   },
   "source": [
    "### Script 1.2.2 矩阵指数\n",
    "证明$\\mathrm{e}^{i\\theta \\hat{P}} = \\cos{\\theta} I + i \\sin{\\theta} \\hat{P}$ ($\\hat P$ equals to $\\hat X\\mathrm{,\\ } \\hat Y\\mathrm{,\\ }  \\hat Z$)"
   ]
  },
  {
   "cell_type": "code",
   "execution_count": null,
   "metadata": {
    "id": "5tPbsuBSNcIL"
   },
   "outputs": [],
   "source": [
    "tc.set_backend(\"tensorflow\")\n",
    "\n",
    "theta = float(input())\n",
    "\n",
    "X = tc.gates._x_matrix\n",
    "Y = tc.gates._y_matrix\n",
    "Z = tc.gates._z_matrix\n",
    "I = tc.gates._i_matrix\n",
    "\n",
    "r1X = sp.linalg.expm(theta*1j*X)#e^ i theta P\n",
    "r1Y = sp.linalg.expm(theta*1j*Y)\n",
    "r1Z = sp.linalg.expm(theta*1j*Z)\n",
    "\n",
    "r2X = math.cos(theta) * I + 1j * math.sin(theta) * X#cos theta I + i sin theta P\n",
    "r2Y = math.cos(theta) * I + 1j * math.sin(theta) * Y\n",
    "r2Z = math.cos(theta) * I + 1j * math.sin(theta) * Z\n",
    "\n",
    "print(X)\n",
    "print(r1X)\n",
    "print(r2X)\n",
    "print(\"\\n\")\n",
    "print(Y)\n",
    "print(r1Y)\n",
    "print(r2Y)\n",
    "print(\"\\n\")\n",
    "print(Z)\n",
    "print(r1Z)\n",
    "print(r2Z)\n",
    "print(\"\\n\")"
   ]
  },
  {
   "cell_type": "markdown",
   "metadata": {
    "id": "RTM6DOsgSpx7"
   },
   "source": [
    "### Script 1.2.3 矩阵关于向量的期望\n",
    "$\\hat Q$ 关于 $\\vec v$ 的期望"
   ]
  },
  {
   "cell_type": "code",
   "execution_count": null,
   "metadata": {
    "id": "12RXIZHTSsPt"
   },
   "outputs": [],
   "source": [
    "tc.set_backend(\"tensorflow\")\n",
    "\n",
    "def assign_pauli(index):#assigning Pauli Matrix\n",
    "  if(index == 0):\n",
    "    return tc.gates._x_matrix\n",
    "  elif(index == 1):\n",
    "    return tc.gates._y_matrix\n",
    "  else:\n",
    "    return tc.gates._z_matrix\n",
    "\n",
    "mP = assign_pauli(2)#Choosing Pauli Matrix (0-x, 1-y other numbers -z)\n",
    "mQ = assign_pauli(1)\n",
    "\n",
    "def get_expt(theta):#get the expection for the vector to spin theta degrees\n",
    "  v0 = np.array([[1],[0]])\n",
    "  vp = sp.linalg.expm(theta*1j/2*mP)\n",
    "  v1 = vp @ v0\n",
    "  v1_tc = v1.T.conj()\n",
    "  expt = v1_tc @ mQ @ v1\n",
    "  return expt\n",
    "\n",
    "yrcoord = []#real part\n",
    "yicoord = []#imgainary part\n",
    "\n",
    "xcoord = np.linspace(0, 2*math.pi, 10000)#create x-coords list, prems: initial point, ending point, and sample number\n",
    "\n",
    "for i in xcoord:\n",
    "  y = get_expt(i)[0][0]\n",
    "  yrcoord.append(y.real)\n",
    "  yicoord.append(y.imag)\n",
    "\n",
    "plt.plot(xcoord,yrcoord,xcoord,yicoord)\n",
    "plt.show()#draw graph"
   ]
  },
  {
   "cell_type": "markdown",
   "metadata": {
    "id": "RndTefGp8ofm"
   },
   "source": [
    "### Script 1.2.4 张量积\n",
    "计算$\\sum^{n-1}_{i=0} Z_i+\\sum^{n-2}_{i=0} X_iX_{i+1}$，并计算其在向量（1，0，0，0，0……）的期望值"
   ]
  },
  {
   "cell_type": "code",
   "execution_count": null,
   "metadata": {
    "id": "HIxC7wE6aF-Q"
   },
   "outputs": [],
   "source": [
    "X = tc.gates._x_matrix\n",
    "Z = tc.gates._z_matrix\n",
    "I = tc.gates._i_matrix\n",
    "\n",
    "Gn = int(input())\n",
    "\n",
    "def get_expt(vec, ma):\n",
    "  vec_tc = vec.T.conj()\n",
    "  vec_rem = vec_tc @ ma\n",
    "  return vec_rem @ vec\n",
    "\n",
    "def get_tp(mat, n, len):\n",
    "  if(n==0):\n",
    "    ret = mat\n",
    "    for index_i in range (1, len):\n",
    "      ret = np.kron(ret, I)\n",
    "  else:\n",
    "    ret = I\n",
    "    for index_i in range(1, n):\n",
    "      ret = np.kron(ret, I)\n",
    "    ret = np.kron(ret, mat)\n",
    "    for index_i in range(n+1, len):\n",
    "      ret = np.kron(ret, I)\n",
    "  return ret\n",
    "\n",
    "res = np.zeros([2**Gn,2**Gn])\n",
    "for index_z in range(0,Gn):\n",
    "  res = res + get_tp(Z, index_z, Gn)\n",
    "\n",
    "for index_x in range(0, Gn-1):\n",
    "  res = res + get_tp(X, index_x, Gn) @ get_tp(X, index_x + 1, Gn)\n",
    "\n",
    "vec_standard = np.zeros([2**Gn])\n",
    "vec_standard[0] = 1\n",
    "print(get_expt(vec_standard,res))"
   ]
  },
  {
   "cell_type": "markdown",
   "metadata": {
    "id": "v9DkwPsWPGHQ"
   },
   "source": [
    "### Script 1.2.5 狄拉克符号\n",
    "使用狄拉克符号（例 $\\ket{0}= \\begin{pmatrix} 1 \\\\ 0 \\end{pmatrix}$ ）\n",
    "<!--$\\ket{0} \\left| 0 \\right> \\left< 0 | 0 \\right> \\bra{0}\\ket{0} \\braket{0|0} \\bra{0}\\hat{A}\\ket{0} \\braket{0 | \\hat{A} | 0} \\begin{pmatrix}1 & 0\\\\ 0 & 1\\end{pmatrix} \\begin{matrix}1 & 0\\\\ 0 & 1\\end{matrix} \\begin{bmatrix}1 & 0\\\\ 0 & 1\\end{bmatrix} \\begin{Bmatrix}1 & 0\\\\ 0 & 1\\end{Bmatrix}$-->"
   ]
  },
  {
   "cell_type": "code",
   "execution_count": null,
   "metadata": {
    "id": "yqldacZN-oZv"
   },
   "outputs": [],
   "source": [
    "#Useful link: https://docs.microsoft.com/en-us/azure/quantum/concepts-dirac-notation\n",
    "dirac_in = input()\n",
    "\n",
    "ret = np.array([1])\n",
    "for i in range(0, len(dirac_in)):\n",
    "  if(dirac_in[i]==\"0\"):\n",
    "    ret = np.kron(ret,[[1],[0]])\n",
    "  else:\n",
    "    ret = np.kron(ret,[[0],[1]])\n",
    "\n",
    "print(ret)"
   ]
  },
  {
   "cell_type": "markdown",
   "metadata": {},
   "source": [
    "## 1.3 导数和梯度下降"
   ]
  },
  {
   "cell_type": "markdown",
   "metadata": {
    "id": "-e9BFnLG37Ur"
   },
   "source": [
    "### Script 1.3.3 单比特位移"
   ]
  },
  {
   "cell_type": "code",
   "execution_count": null,
   "metadata": {
    "id": "hDVfz8a137fU"
   },
   "outputs": [],
   "source": [
    "K = tc.set_backend(\"tensorflow\")\n",
    "\n",
    "def assign_pauli(index):\n",
    "  if(index == 0):\n",
    "    return tc.gates._x_matrix\n",
    "  elif(index == 1):\n",
    "    return tc.gates._y_matrix\n",
    "  else:\n",
    "    return tc.gates._z_matrix\n",
    "\n",
    "p1331 = assign_pauli(1)\n",
    "p1332 = assign_pauli(2)\n",
    "\n",
    "def function_f_133(theta):\n",
    "  theta = K.cast(theta, dtype=tc.dtypestr)\n",
    "  ret = tc.array_to_tensor(np.array([[1.,0]]))\n",
    "  ret = ret@ K.expm(theta*(-1j/2)*tc.array_to_tensor(p1331))\n",
    "  ret = ret@ tc.array_to_tensor(p1332) @ K.expm(theta*1.j/2*tc.array_to_tensor(p1331))\n",
    "  ret = ret@ tc.array_to_tensor(np.array([[1.],[0]]))\n",
    "  return ret\n",
    "\n",
    "\n",
    "ycord = []\n",
    "\n",
    "xcord = np.linspace(-10, 10, 100)\n",
    "\n",
    "for i in xcord:\n",
    "  y = function_f_133(i)[0][0]\n",
    "  ycord.append(y)\n",
    "\n",
    "plt.plot(xcord,ycord)\n",
    "plt.show()"
   ]
  },
  {
   "cell_type": "markdown",
   "metadata": {},
   "source": [
    "### 1.3.4 梯度下降（利用.grad和两个单数据变量计算梯度下降）"
   ]
  },
  {
   "cell_type": "code",
   "execution_count": null,
   "metadata": {
    "id": "sl2V2vvW_QNw"
   },
   "outputs": [],
   "source": [
    "lr = 0.7\n",
    "\n",
    "x = K.convert_to_tensor(2.0)\n",
    "y = K.convert_to_tensor(2.0)\n",
    "\n",
    "def fff(nx,ny):\n",
    "  return nx**2+ny**2\n",
    "\n",
    "gf = K.grad(fff, argnums=(0,1))\n",
    "for i in range(0,100):\n",
    "  slc = gf(x,y)\n",
    "  x = x - slc[0]*lr\n",
    "  y = y - slc[1]*lr\n",
    "  print(x)\n",
    "  print(y)\n"
   ]
  },
  {
   "cell_type": "markdown",
   "metadata": {},
   "source": [
    "### 1.3.4 梯度下降（利用.grad和一个张量变量计算梯度下降）"
   ]
  },
  {
   "cell_type": "code",
   "execution_count": null,
   "metadata": {},
   "outputs": [],
   "source": [
    "lr = 0.7\n",
    "\n",
    "q = tc.array_to_tensor([2.0,3.0])\n",
    "\n",
    "def ffff(q):\n",
    "  return q[0]**2+q[1]**2\n",
    "\n",
    "gff = K.grad(ffff)\n",
    "for i in range(0,100):\n",
    "  slc = gff(q)\n",
    "  print(q[0])\n",
    "  q -= slc * lr\n",
    "  print(q)"
   ]
  },
  {
   "cell_type": "markdown",
   "metadata": {},
   "source": [
    "## 1.4 量子线路"
   ]
  },
  {
   "cell_type": "markdown",
   "metadata": {},
   "source": [
    "### Script 1.4.1 态生成"
   ]
  },
  {
   "cell_type": "markdown",
   "metadata": {
    "id": "rFKJkPZAQI_8"
   },
   "source": [
    "#### Script 1.4.1.1"
   ]
  },
  {
   "cell_type": "code",
   "execution_count": null,
   "metadata": {},
   "outputs": [],
   "source": [
    "n=6\n",
    "\n",
    "c=tc.Circuit(n)\n",
    "\n",
    "c.h(0)\n",
    "\n",
    "for i in range(1,n):\n",
    "    c.cnot(0,i)\n",
    "\n",
    "c.draw(output=\"mpl\")"
   ]
  },
  {
   "cell_type": "markdown",
   "metadata": {},
   "source": [
    "#### Script 1.4.1.2"
   ]
  },
  {
   "cell_type": "code",
   "execution_count": null,
   "metadata": {},
   "outputs": [],
   "source": [
    "n=6\n",
    "\n",
    "c=tc.Circuit(n)\n",
    "\n",
    "for i in range(n):\n",
    "    c.h(i)\n",
    "\n",
    "c.draw(output=\"mpl\")"
   ]
  },
  {
   "cell_type": "markdown",
   "metadata": {},
   "source": [
    "#### Script 1.4.1.3"
   ]
  },
  {
   "cell_type": "code",
   "execution_count": null,
   "metadata": {},
   "outputs": [],
   "source": [
    "c=tc.Circuit(4)\n",
    "\n",
    "u1=np.array([[1,0],[0,1]])\n",
    "u2=np.array([[1,0],[0,1]])\n",
    "z=np.array([[1,0],[0,-1]])\n",
    "\n",
    "c.h(0)\n",
    "c.h(1)\n",
    "c.multicontrol(*range(2),ctrl=[1],unitary=z)\n",
    "\n",
    "c.cnot(0,2)\n",
    "c.cnot(1,3)\n",
    "\n",
    "c.multicontrol(2,0,ctrl=[0],unitary=u1)\n",
    "\n",
    "c.multicontrol(3,1,ctrl=[1],unitary=z)\n",
    "\n",
    "c.multicontrol(3,1,ctrl=[1],unitary=u2)\n",
    "\n",
    "while c.measure(1)==1:\n",
    "    continue\n",
    "c.draw(output=\"mpl\")"
   ]
  },
  {
   "cell_type": "markdown",
   "metadata": {},
   "source": [
    "### Script 1.4.2 多比特下的参数平移"
   ]
  },
  {
   "cell_type": "code",
   "execution_count": null,
   "metadata": {},
   "outputs": [],
   "source": [
    "K = tc.set_backend(\"tensorflow\")\n",
    "def exp_sumz(n, nlayers, param):\n",
    "    c = tc.Circuit(n)\n",
    "    for j in range(nlayers):\n",
    "        for i in range(n):\n",
    "            c.rx(i, theta=param[i, j])\n",
    "        for i in range(n - 1):\n",
    "            c.cnot(i, i + 1)\n",
    "    c.draw(output=\"mpl\")\n",
    "    return K.real(K.sum([c.expectation_ps(z=[i]) for i in range(n)]))\n",
    "\n",
    "n, nlayers = 3, 3\n",
    "param = K.randn([n, nlayers],dtype=tf.complex64)\n",
    "\n",
    "\n",
    "for dx in range(n):\n",
    "  for dy in range(nlayers):\n",
    "    np.arange(0,10,0.1)\n",
    "    deltas = tc.array_to_tensor(np.arange(0, 10, 0.1))\n",
    "    results = []\n",
    "    for i in range(deltas.shape[0]) :\n",
    "      Delta=np.zeros([n, nlayers])\n",
    "      Delta[dx][dy] = deltas[i]\n",
    "      results.append(exp_sumz(n, nlayers, param + tc.array_to_tensor(Delta)))\n",
    "    plt.plot(deltas, results)\n",
    "    plt.xlabel(\"({},{})\".format(dx,dy))\n",
    "    plt.show()"
   ]
  },
  {
   "cell_type": "markdown",
   "metadata": {},
   "source": [
    "### Script 1.4.3 量子门分解"
   ]
  },
  {
   "cell_type": "code",
   "execution_count": null,
   "metadata": {},
   "outputs": [],
   "source": [
    "val = 2.0\n",
    "c = tc.Circuit(2)\n",
    "c.RZ(1, theta = val)\n",
    "c.z(1)\n",
    "print(c.matrix())\n",
    "for i in range(4):\n",
    "  print(c.matrix()[i][i])\n",
    "c.draw(output=\"mpl\")"
   ]
  },
  {
   "cell_type": "markdown",
   "metadata": {},
   "source": [
    "## 1.5 量子算法"
   ]
  },
  {
   "cell_type": "markdown",
   "metadata": {},
   "source": [
    "### Script 1.5.1 oracle"
   ]
  },
  {
   "cell_type": "code",
   "execution_count": null,
   "metadata": {},
   "outputs": [],
   "source": [
    "c=tc.Circuit(14)\n",
    "\n",
    "c.x(0)\n",
    "c.x(2)\n",
    "c.x(5)\n",
    "\n",
    "#input\n",
    "\n",
    "a=np.array([[0 for i in range(6)] for j in range(6)])\n",
    "\n",
    "a[0,1]=6\n",
    "a[1,2]=7\n",
    "a[0,3]=8\n",
    "a[1,4]=9\n",
    "a[2,5]=10\n",
    "a[3,4]=11\n",
    "a[4,5]=12\n",
    "\n",
    "def pd(i,j):\n",
    "    c.cnot(i,a[i,j])\n",
    "    c.cnot(j,a[i,j])\n",
    "for i in range(6):\n",
    "    for j in range(6):\n",
    "        if a[i,j]!=0:\n",
    "            pd(i,j)\n",
    "            \n",
    "u=np.array([[0,1],[1,0]])\n",
    "\n",
    "c.multicontrol(*range(6,14),ctrl=[1 for i in range(7)],unitary=u)\n",
    "\n",
    "for i in range(5,-1,-1):\n",
    "    for j in range(5,-1,-1):\n",
    "        if a[i,j]!=0:\n",
    "            pd(i,j)   \n",
    "\n",
    "print(\" \")\n",
    "c.draw(output=\"mpl\")"
   ]
  },
  {
   "cell_type": "markdown",
   "metadata": {},
   "source": [
    "### Script 1.5.2 Grover"
   ]
  },
  {
   "cell_type": "code",
   "execution_count": null,
   "metadata": {},
   "outputs": [],
   "source": [
    "c=tc.Circuit(7)\n",
    "n=6\n",
    "m=2\n",
    "h1=np.array([[1,1],[1,-1]])/math.sqrt(2)\n",
    "hn=h1\n",
    "thi=math.asin(math.sqrt(m/n))/2\n",
    "\n",
    "def CI(x):#Nearest integer\n",
    "    y=int(x)\n",
    "    if x-y>=0.5:\n",
    "        return y+1\n",
    "    else:\n",
    "        return y\n",
    "\n",
    "R=CI(math.acos(math.sqrt(m/n))/thi)#Number of cycles\n",
    "\n",
    "def hnn():#n H-gates\n",
    "    for i in range(n):\n",
    "        c.h(i)\n",
    "    \n",
    "u=np.array([[0,1],[1,0]])#x-gate, optimize needed\n",
    "\n",
    "def psg():#phase shift gate\n",
    "    c.multicontrol(*range(7),ctrl=[0 for i in range(6)],unitary=u)\n",
    "    \n",
    "c.h(6)\n",
    "c.z(6)\n",
    "\n",
    "\n",
    "def oracle():#oracle\n",
    "    c.cnot(0,3)\n",
    "    c.cnot(1,4)\n",
    "    c.cnot(2,5)\n",
    "    c.cnot(1,2)\n",
    "    c.cnot(0,1)\n",
    "                \n",
    "    c.multicontrol(*range(1,7),ctrl=[1 for i in range(5)],unitary=u)\n",
    "                \n",
    "    c.cnot(0,1)\n",
    "    c.cnot(1,2)\n",
    "    c.cnot(2,5)\n",
    "    c.cnot(1,4)\n",
    "    c.cnot(0,3)\n",
    "\n",
    "def grover():#grover\n",
    "    oracle()\n",
    "    hnn()\n",
    "    psg()\n",
    "    hnn()\n",
    "\n",
    "#OUTPUT\n",
    "    \n",
    "hnn()\n",
    "\n",
    "for i in range(R):\n",
    "    grover()\n",
    "\n",
    "c.draw(output=\"mpl\")"
   ]
  }
 ],
 "metadata": {
  "colab": {
   "collapsed_sections": [],
   "name": "task1.ipynb",
   "provenance": []
  },
  "kernelspec": {
   "display_name": "Python 3 (ipykernel)",
   "language": "python",
   "name": "python3"
  },
  "language_info": {
   "codemirror_mode": {
    "name": "ipython",
    "version": 3
   },
   "file_extension": ".py",
   "mimetype": "text/x-python",
   "name": "python",
   "nbconvert_exporter": "python",
   "pygments_lexer": "ipython3",
   "version": "3.9.12"
  }
 },
 "nbformat": 4,
 "nbformat_minor": 4
}
